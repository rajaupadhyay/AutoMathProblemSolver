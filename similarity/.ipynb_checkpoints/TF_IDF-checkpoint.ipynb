{
 "cells": [
  {
   "cell_type": "code",
   "execution_count": null,
   "metadata": {},
   "outputs": [],
   "source": [
    "import re\n",
    "import json\n",
    "import string\n",
    "from nltk import pos_tag\n",
    "from nltk import word_tokenize\n",
    "from sklearn.feature_extraction.text import TfidfVectorizer\n",
    "from sklearn.metrics.pairwise import linear_kernel\n",
    "\n",
    "import sys\n",
    "sys.path.insert(0, '../SVM')\n",
    "from encoder_functions import *"
   ]
  },
  {
   "cell_type": "code",
   "execution_count": null,
   "metadata": {},
   "outputs": [],
   "source": [
    "def remove_specials_and_spaces(s):\n",
    "    # Removing punctuations\n",
    "    stripped = re.sub('[?!.,;:_]', '', s)\n",
    "    \n",
    "    # Removing excess white space\n",
    "    stripped = re.sub('\\s+', ' ', stripped)\n",
    "    stripped = stripped.strip()\n",
    "\n",
    "    return stripped"
   ]
  },
  {
   "cell_type": "code",
   "execution_count": null,
   "metadata": {},
   "outputs": [],
   "source": [
    "# corpus = [\n",
    "#     'A reliable ordered delivery protocol for interconnected local area networks',\n",
    "#     'Interconnection of broadband local area networks',\n",
    "#     'High-speed local area networks and their performance: a survey',\n",
    "#     'High-speed switch scheduling for local-area networks',\n",
    "#     'Algorithms for Distributed Query Processing in Broadcast Local Area Networks',\n",
    "#     '    TOTEM 2*+-/?!.,;:_3: a reliable            ordered delivery protocol for interconnected local-area networks',\n",
    "#     'A reliable multicast framework for light-weight sessions and application level framing',\n",
    "#     'ALMI: an application level multicast infrastructure',\n",
    "# ]"
   ]
  },
  {
   "cell_type": "code",
   "execution_count": null,
   "metadata": {},
   "outputs": [],
   "source": [
    "def get_corpus(filepath = '../SVM/data/data.json'):\n",
    "    corpus = []\n",
    "    with open(filepath) as file:\n",
    "        data = json.load(file)\n",
    "    for problem in data:\n",
    "        corpus.append(problem['question'])\n",
    "    return corpus"
   ]
  },
  {
   "cell_type": "markdown",
   "metadata": {},
   "source": [
    "### POS Tagging\n",
    "NN\t  noun, singular 'desk'  \n",
    "NNS\t  noun plural\t'desks'  \n",
    "NNP\t  proper noun, singular\t'Harrison'  \n",
    "NNPS  proper noun, plural\t'Americans'  "
   ]
  },
  {
   "cell_type": "code",
   "execution_count": null,
   "metadata": {},
   "outputs": [],
   "source": [
    "# http://lbcrs.org/common/pages/DisplayFile.aspx%3FitemId%3D3446744\n",
    "# https://www.purplemath.com/modules/translat.htm\n",
    "math_terms = [\n",
    "    # Addition Words\n",
    "    'add',\n",
    "    'all',\n",
    "    'together',\n",
    "    'altogether',\n",
    "    'and',\n",
    "    'both',\n",
    "    'combined',\n",
    "    'much',\n",
    "    'increase',\n",
    "    'increased',\n",
    "    'by',\n",
    "    'plus',\n",
    "    'sum',\n",
    "    'total',\n",
    "    'added',\n",
    "    'addition',\n",
    "    # Subtraction words\n",
    "    'change',\n",
    "    'decrease',\n",
    "    'decreased',\n",
    "    'difference',\n",
    "    'fewer',\n",
    "    'left',\n",
    "    'many',\n",
    "    'more',\n",
    "    'longer',\n",
    "    'shorter',\n",
    "    'taller', \n",
    "    'heavier', \n",
    "    'less',\n",
    "    'lost',\n",
    "    'minus',\n",
    "    'need',\n",
    "    'reduce',\n",
    "    'remain',\n",
    "    'subtract',\n",
    "    'subtraction',\n",
    "    'take' ,\n",
    "    'away',\n",
    "    'over',\n",
    "    'after',\n",
    "    'save',\n",
    "    'comparative',\n",
    "    # Multiplication words\n",
    "    'double',\n",
    "    'each' ,\n",
    "    'group',\n",
    "    'every',\n",
    "    'factor', \n",
    "    'multiplied',\n",
    "    'of',\n",
    "    'product',\n",
    "    'times',\n",
    "    'triple',\n",
    "    'twice',\n",
    "    'multiplication',\n",
    "    'multiply',\n",
    "    # Division Words\n",
    "    'cut',\n",
    "    'share',\n",
    "    'half',\n",
    "    'fraction',\n",
    "    'parts',\n",
    "    'per',\n",
    "    'percent',\n",
    "    'quotient',\n",
    "    'ratio',\n",
    "    'separated',\n",
    "    'equally',\n",
    "    'divide',\n",
    "    'division',\n",
    "    'equal',\n",
    "    'pieces', \n",
    "    'split',\n",
    "    'average',\n",
    "    # Equality Words\n",
    "    'is', \n",
    "    'are', \n",
    "    'was', \n",
    "    'were', \n",
    "    'will',\n",
    "    'gives', \n",
    "    'yields',\n",
    "    'sold',\n",
    "    'cost',\n",
    "]"
   ]
  },
  {
   "cell_type": "code",
   "execution_count": null,
   "metadata": {},
   "outputs": [],
   "source": [
    "def replace_nouns(corpus):\n",
    "    for j in range(len(corpus)):\n",
    "        pos = pos_tag(word_tokenize(corpus[j]))\n",
    "        for i in range(len(pos)):\n",
    "            if pos[i][0] in math_terms:\n",
    "                continue\n",
    "            if pos[i][1] == 'NN' or pos[i][1] == 'NNS':\n",
    "                corpus[j] = str.replace(corpus[j], pos[i][0], 'commonnoun')\n",
    "            elif pos[i][1] == 'NNP' or pos[i][1] == 'NNPS':\n",
    "                corpus[j] = str.replace(corpus[j], pos[i][0], 'propernoun')\n",
    "    return corpus"
   ]
  },
  {
   "cell_type": "code",
   "execution_count": null,
   "metadata": {
    "scrolled": false
   },
   "outputs": [],
   "source": [
    "def prep_equation_list(filepath):\n",
    "    equations_list = []\n",
    "\n",
    "    with open(filepath) as file:\n",
    "        data = json.load(file)\n",
    "\n",
    "    for datapoint in data:\n",
    "        words = datapoint['question'].split(' ')\n",
    "        words = removeEmptiesAndPunctuation(words)\n",
    "        wordsAndEquations = replaceNumbers(words, datapoint['equations'], datapoint['unknowns'])\n",
    "\n",
    "        words = wordsAndEquations[0]\n",
    "        eqTemplates = wordsAndEquations[1]\n",
    "        equations_list.append(eqTemplates)\n",
    "    return equations_list"
   ]
  },
  {
   "cell_type": "code",
   "execution_count": null,
   "metadata": {},
   "outputs": [],
   "source": [
    "def get_tfidf_matrix(corpus):\n",
    "    tf = TfidfVectorizer(analyzer='word', ngram_range=(1, 3), min_df=0, stop_words='english')\n",
    "    tfidf_matrix = tf.fit_transform(corpus)\n",
    "    return tf, tfidf_matrix"
   ]
  },
  {
   "cell_type": "code",
   "execution_count": null,
   "metadata": {},
   "outputs": [],
   "source": [
    "# Find documents similar to another document in the tfidf_matrix at given index\n",
    "def find_similar(tfidf_matrix, index, top_n = 5):\n",
    "    cosine_similarities = linear_kernel(tfidf_matrix[index:index+1], tfidf_matrix).flatten()\n",
    "    related_docs_indices = [i for i in cosine_similarities.argsort()[::-1] if i != index]\n",
    "    return [(index, cosine_similarities[index]) for index in related_docs_indices][0:top_n]\n",
    "\n",
    "# Find documents similar to a document that is not in the tfidf_matrix\n",
    "def find_similar_new(tfidf_matrix, new_doc, top_n = 2):\n",
    "    cosine_similarities = linear_kernel(new_doc[0], tfidf_matrix).flatten()\n",
    "    related_docs_indices = [i for i in cosine_similarities.argsort()[::-1]]\n",
    "    return [(index, cosine_similarities[index]) for index in related_docs_indices][0:top_n]"
   ]
  },
  {
   "cell_type": "code",
   "execution_count": null,
   "metadata": {},
   "outputs": [],
   "source": [
    "def print_similar_questions(corpus, tf, tfidf_matrix, min_score):\n",
    "    count = 0\n",
    "    for i in range(len(corpus)):\n",
    "        for index, score in find_similar(tfidf_matrix, i, top_n=1):\n",
    "            if score > 0.5:\n",
    "                count += 1\n",
    "                print('Question', i)\n",
    "                print(corpus[i])\n",
    "                print('Similarity Score: ', score)\n",
    "                print('Similar Question: ', corpus[index], '\\n')\n",
    "    print('Number of problems with score above', min_score, ': ', count)\n",
    "    print('Total number of problems in corpus: ', len(corpus))\n",
    "    print('Fraction of entire corpus: ', count/len(corpus))"
   ]
  },
  {
   "cell_type": "code",
   "execution_count": null,
   "metadata": {},
   "outputs": [],
   "source": [
    "def get_input_and_similar_questions(corpus, equations_list, tf, tfidf_matrix, min_score):\n",
    "    while True:\n",
    "        question = input(\"Type in a question: \")\n",
    "        temp = question.split(\" \")\n",
    "        temp = removeEmptiesAndPunctuation(temp)\n",
    "        if question.lower() == 'exit':\n",
    "            print('Exitting...\\n')\n",
    "            break\n",
    "        \n",
    "        numbers = findNumbersInWords(temp)\n",
    "        \n",
    "        question = replace_nouns([question])[0]\n",
    "        print(question)\n",
    "        new_doc = tf.transform([question])\n",
    "        \n",
    "        template_found = False\n",
    "        \n",
    "        for index, score in find_similar_new(tfidf_matrix, new_doc, top_n=15):\n",
    "            if score > min_score:\n",
    "                similar_question = corpus[index]\n",
    "                similar_question = similar_question.split(\" \")\n",
    "                similar_question = removeEmptiesAndPunctuation(similar_question)\n",
    "                numbers_in_similar_question = findNumbersInWords(similar_question)\n",
    "                if len(numbers) == len(numbers_in_similar_question):\n",
    "                    print(len(numbers_in_similar_question))\n",
    "                    print(numbers_in_similar_question)\n",
    "                    print(numbers)\n",
    "                    template_found = True\n",
    "                    equation = equations_list[index]\n",
    "                    for i in range(len(numbers)):\n",
    "                        equation = equation.replace(\"a\" + str(i), str(numbers[i]))\n",
    "                    print(equation)\n",
    "                    print('-------------------------------------')\n",
    "                    print('Similarity Score: ', score)\n",
    "                    print('Similar Question: ', corpus[index], '\\n\\n')\n",
    "                    break\n",
    "        if not template_found:\n",
    "            print('No similar questions found!\\n')"
   ]
  },
  {
   "cell_type": "code",
   "execution_count": null,
   "metadata": {
    "scrolled": false
   },
   "outputs": [],
   "source": [
    "def run():\n",
    "    min_score = 0.0\n",
    "    filepath = '../SVM/data/data.json'\n",
    "    \n",
    "    corpus = get_corpus(filepath)\n",
    "    corpus = replace_nouns(corpus)\n",
    "    equations_list = prep_equation_list(filepath)\n",
    "    tf, tfidf_matrix = get_tfidf_matrix(corpus)\n",
    "    get_input_and_similar_questions(corpus, equations_list, tf, tfidf_matrix, min_score)\n",
    "#     print_similar_questions(corpus, tf, tfidf_matrix, min_score)"
   ]
  },
  {
   "cell_type": "code",
   "execution_count": null,
   "metadata": {
    "scrolled": false
   },
   "outputs": [],
   "source": [
    "run()"
   ]
  }
 ],
 "metadata": {
  "kernelspec": {
   "display_name": "Python 3",
   "language": "python",
   "name": "python3"
  },
  "language_info": {
   "codemirror_mode": {
    "name": "ipython",
    "version": 3
   },
   "file_extension": ".py",
   "mimetype": "text/x-python",
   "name": "python",
   "nbconvert_exporter": "python",
   "pygments_lexer": "ipython3",
   "version": "3.6.5"
  }
 },
 "nbformat": 4,
 "nbformat_minor": 2
}
